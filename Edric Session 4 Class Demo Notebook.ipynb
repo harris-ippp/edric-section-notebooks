{
 "cells": [
  {
   "cell_type": "markdown",
   "metadata": {},
   "source": [
    "## Section Number 4\n",
    "\n",
    "### Will leave at 5:45pm today...friend visiting...will start Q&A at 5:10\n",
    "\n",
    "- Last week review (common mistakes and stuff relevant to this assignment)\n",
    "    - quickly review common mistakes in quiz 3\n",
    "        - nested list syntax for indexing and slicing\n",
    "        - code format and functions for opening and reading files in python \n",
    "    - quickly review nested lists and dictionaries (5min):\n",
    "        - slicing\n",
    "        - indexing\n",
    "        - sort\n",
    "        - append\n",
    "    - quickly review strings (5min):\n",
    "        - basically glorified list of chars\n",
    "        - can do slicing and indexing\n",
    "        - use of find, sep\n",
    "    - quickly review opening files (5min)\n",
    "        - for loop and open()\n",
    "        - file.readLine()\n",
    "    - several common patterns: (10 min)\n",
    "        - how to use for loop (and dicts) to keep count...counter pattern\n",
    "        - how to find medians, means, max, min\n",
    " \n",
    "- This week review/preview (stuff relevant to next assignment) (5min)\n",
    "    - no more new data structures for now\n",
    "    - more algorithmic focused\n",
    "    - matching algorithms\n",
    "    - demo of pop(two effects)\n",
    "    - talk through matching code\n",
    "\n",
    "- Q&A"
   ]
  },
  {
   "cell_type": "code",
   "execution_count": 6,
   "metadata": {},
   "outputs": [],
   "source": [
    "A = [[1,2,3], [4,5,6], [7,8,9]]"
   ]
  },
  {
   "cell_type": "code",
   "execution_count": 7,
   "metadata": {},
   "outputs": [
    {
     "data": {
      "text/plain": [
       "[5, 6]"
      ]
     },
     "execution_count": 7,
     "metadata": {},
     "output_type": "execute_result"
    }
   ],
   "source": [
    "A[1][1:3]"
   ]
  },
  {
   "cell_type": "code",
   "execution_count": 8,
   "metadata": {},
   "outputs": [
    {
     "ename": "TypeError",
     "evalue": "list indices must be integers or slices, not tuple",
     "output_type": "error",
     "traceback": [
      "\u001b[0;31m------------------------------------------------------\u001b[0m",
      "\u001b[0;31mTypeError\u001b[0m            Traceback (most recent call last)",
      "\u001b[0;32m<ipython-input-8-e5ecb961b89b>\u001b[0m in \u001b[0;36m<module>\u001b[0;34m()\u001b[0m\n\u001b[0;32m----> 1\u001b[0;31m \u001b[0mA\u001b[0m\u001b[0;34m[\u001b[0m\u001b[0;36m1\u001b[0m\u001b[0;34m,\u001b[0m\u001b[0;36m1\u001b[0m\u001b[0;34m:\u001b[0m\u001b[0;36m3\u001b[0m\u001b[0;34m]\u001b[0m\u001b[0;34m\u001b[0m\u001b[0m\n\u001b[0m",
      "\u001b[0;31mTypeError\u001b[0m: list indices must be integers or slices, not tuple"
     ]
    }
   ],
   "source": [
    "A[1,1:3]"
   ]
  },
  {
   "cell_type": "code",
   "execution_count": 12,
   "metadata": {},
   "outputs": [
    {
     "data": {
      "text/plain": [
       "{'A': 'a', 'B': 'b'}"
      ]
     },
     "execution_count": 12,
     "metadata": {},
     "output_type": "execute_result"
    }
   ],
   "source": [
    "dictCapital = {\"A\":\"a\"}\n",
    "dictCapital[\"B\"] = \"b\"\n",
    "dictCapital"
   ]
  },
  {
   "cell_type": "code",
   "execution_count": 13,
   "metadata": {},
   "outputs": [
    {
     "data": {
      "text/plain": [
       "[1, 2, 3, 4, 5]"
      ]
     },
     "execution_count": 13,
     "metadata": {},
     "output_type": "execute_result"
    }
   ],
   "source": [
    "B = [5,4,3,2,1]\n",
    "B.sort()\n",
    "B"
   ]
  },
  {
   "cell_type": "code",
   "execution_count": 14,
   "metadata": {},
   "outputs": [
    {
     "data": {
      "text/plain": [
       "[5, 4, 3, 2, 1]"
      ]
     },
     "execution_count": 14,
     "metadata": {},
     "output_type": "execute_result"
    }
   ],
   "source": [
    "C = [1,2,3,4,5]\n",
    "C.sort(reverse=True)\n",
    "C"
   ]
  },
  {
   "cell_type": "code",
   "execution_count": 15,
   "metadata": {},
   "outputs": [
    {
     "data": {
      "text/plain": [
       "[5, 4, 3, 2, 1, 0]"
      ]
     },
     "execution_count": 15,
     "metadata": {},
     "output_type": "execute_result"
    }
   ],
   "source": [
    "C.append(0)\n",
    "C"
   ]
  },
  {
   "cell_type": "code",
   "execution_count": 16,
   "metadata": {},
   "outputs": [
    {
     "data": {
      "text/plain": [
       "[5, 4, 3, 2, 1, 0, 1, 2, 3]"
      ]
     },
     "execution_count": 16,
     "metadata": {},
     "output_type": "execute_result"
    }
   ],
   "source": [
    "C + [1,2,3]"
   ]
  },
  {
   "cell_type": "code",
   "execution_count": 17,
   "metadata": {},
   "outputs": [
    {
     "data": {
      "text/plain": [
       "'bc'"
      ]
     },
     "execution_count": 17,
     "metadata": {},
     "output_type": "execute_result"
    }
   ],
   "source": [
    "stringB = \"abcd\"\n",
    "stringB[1:3]"
   ]
  },
  {
   "cell_type": "code",
   "execution_count": 18,
   "metadata": {},
   "outputs": [
    {
     "data": {
      "text/plain": [
       "2"
      ]
     },
     "execution_count": 18,
     "metadata": {},
     "output_type": "execute_result"
    }
   ],
   "source": [
    "strA = \"abcdefg\"\n",
    "strA.find(\"cd\")"
   ]
  },
  {
   "cell_type": "code",
   "execution_count": 19,
   "metadata": {},
   "outputs": [
    {
     "data": {
      "text/plain": [
       "-1"
      ]
     },
     "execution_count": 19,
     "metadata": {},
     "output_type": "execute_result"
    }
   ],
   "source": [
    "strA.find(\"wfsdf\")"
   ]
  },
  {
   "cell_type": "code",
   "execution_count": 21,
   "metadata": {},
   "outputs": [
    {
     "data": {
      "text/plain": [
       "['uno', 'dos', 'tres', 'cuatros', 'cinco']"
      ]
     },
     "execution_count": 21,
     "metadata": {},
     "output_type": "execute_result"
    }
   ],
   "source": [
    "strB = \"uno, dos, tres, cuatros, cinco\"\n",
    "strB.split(\", \")"
   ]
  },
  {
   "cell_type": "code",
   "execution_count": 22,
   "metadata": {},
   "outputs": [
    {
     "name": "stdout",
     "output_type": "stream",
     "text": [
      "33184\n"
     ]
    }
   ],
   "source": [
    "counter = 0\n",
    "fileHanle = open(\"salaries.csv\")\n",
    "for line in fileHanle:\n",
    "\n",
    "    counter = counter + 1\n",
    "print(counter)"
   ]
  },
  {
   "cell_type": "code",
   "execution_count": 31,
   "metadata": {},
   "outputs": [
    {
     "name": "stdout",
     "output_type": "stream",
     "text": [
      "['Name,Job Titles,Department,Full or Part-Time,Salary or Hourly,Typical Hours,Annual Salary,Hourly Rate\\n', '\"AARON,  JEFFERY M\",SERGEANT,POLICE,F,Salary,,$101442.00,\\n', '\"AARON,  KARINA \",POLICE OFFICER (ASSIGNED AS DETECTIVE),POLICE,F,Salary,,$94122.00,\\n', '\"AARON,  KIMBERLEI R\",CHIEF CONTRACT EXPEDITER,GENERAL SERVICES,F,Salary,,$101592.00,\\n', '\"ABAD JR,  VICENTE M\",CIVIL ENGINEER IV,WATER MGMNT,F,Salary,,$110064.00,\\n', '\"ABASCAL,  REECE E\",TRAFFIC CONTROL AIDE-HOURLY,OEMC,P,Hourly,20,,$19.86\\n', '\"ABBASI,  CHRISTOPHER \",STAFF ASST TO THE ALDERMAN,CITY COUNCIL,F,Salary,,$50436.00,\\n', '\"ABBATACOLA,  ROBERT J\",ELECTRICAL MECHANIC,AVIATION,F,Hourly,40,,$46.10\\n', '\"ABBATE,  JOSEPH L \",POOL MOTOR TRUCK DRIVER,STREETS & SAN,F,Hourly,40,,$35.60\\n', '\"ABBATEMARCO,  JAMES J\",FIRE ENGINEER-EMT,FIRE,F,Salary,,$103350.00,\\n']\n"
     ]
    }
   ],
   "source": [
    "nested = []\n",
    "for line in open(\"salaries.csv\"):\n",
    "    \n",
    "    newLine = line.split(\",\")\n",
    "    nested.append(line)\n",
    "\n",
    "print(nested[0:10])"
   ]
  },
  {
   "cell_type": "code",
   "execution_count": 23,
   "metadata": {},
   "outputs": [
    {
     "data": {
      "text/plain": [
       "'Name,Job Titles,Department,Full or Part-Time,Salary or Hourly,Typical Hours,Annual Salary,Hourly Rate\\n'"
      ]
     },
     "execution_count": 23,
     "metadata": {},
     "output_type": "execute_result"
    }
   ],
   "source": [
    "file = open(\"salaries.csv\")\n",
    "file.readline()"
   ]
  },
  {
   "cell_type": "code",
   "execution_count": 24,
   "metadata": {},
   "outputs": [
    {
     "data": {
      "text/plain": [
       "'\"AARON,  JEFFERY M\",SERGEANT,POLICE,F,Salary,,$101442.00,\\n'"
      ]
     },
     "execution_count": 24,
     "metadata": {},
     "output_type": "execute_result"
    }
   ],
   "source": [
    "file.readline()"
   ]
  },
  {
   "cell_type": "code",
   "execution_count": 25,
   "metadata": {},
   "outputs": [
    {
     "data": {
      "text/plain": [
       "'\"AARON,  KARINA \",POLICE OFFICER (ASSIGNED AS DETECTIVE),POLICE,F,Salary,,$94122.00,\\n'"
      ]
     },
     "execution_count": 25,
     "metadata": {},
     "output_type": "execute_result"
    }
   ],
   "source": [
    "file.readline()"
   ]
  },
  {
   "cell_type": "code",
   "execution_count": 26,
   "metadata": {},
   "outputs": [
    {
     "data": {
      "text/plain": [
       "'\"AARON,  KIMBERLEI R\",CHIEF CONTRACT EXPEDITER,GENERAL SERVICES,F,Salary,,$101592.00,\\n'"
      ]
     },
     "execution_count": 26,
     "metadata": {},
     "output_type": "execute_result"
    }
   ],
   "source": [
    "file.readline()"
   ]
  },
  {
   "cell_type": "code",
   "execution_count": 36,
   "metadata": {},
   "outputs": [],
   "source": [
    "def mean(inputList):\n",
    "    accumulator = 0\n",
    "    for item in inputList:\n",
    "        accumulator += item\n",
    "    return accumulator/len(inputList)"
   ]
  },
  {
   "cell_type": "code",
   "execution_count": null,
   "metadata": {},
   "outputs": [],
   "source": [
    "def findMedian(inputList):\n",
    "    if len(inputList) % 2 == 0:\n",
    "        return inputList\n",
    "    else"
   ]
  },
  {
   "cell_type": "code",
   "execution_count": null,
   "metadata": {},
   "outputs": [],
   "source": [
    "# talk through matching code\n",
    "# do demostration of pop"
   ]
  },
  {
   "cell_type": "code",
   "execution_count": 1,
   "metadata": {},
   "outputs": [
    {
     "name": "stdout",
     "output_type": "stream",
     "text": [
      "5\n",
      "[1, 2, 3, 4]\n"
     ]
    }
   ],
   "source": [
    "H = [1,2,3,4,5]\n",
    "item = H.pop()\n",
    "print(item)\n",
    "print(H)"
   ]
  },
  {
   "cell_type": "code",
   "execution_count": null,
   "metadata": {},
   "outputs": [],
   "source": [
    "students = ['A', 'B', 'C']\n",
    "hospitals = ['X', 'Y', 'Z']\n",
    "\n",
    "prefs = {\n",
    "    'X': ['B', 'A', 'C'],\n",
    "    'Y': ['A', 'B', 'C'],\n",
    "    'Z': ['A', 'B', 'C'],\n",
    "    'A': ['X', 'Y', 'Z'],\n",
    "    'B': ['Y', 'X', 'Z'],\n",
    "    'C': ['X', 'Y', 'Z']\n",
    "}\n",
    "\n",
    "# a useful transformation of the preferences\n",
    "rank = {\n",
    "    'X': {'A':2, 'B':1, 'C':3},\n",
    "    'Y': {'A':1, 'B':2, 'C':3},\n",
    "    'Z': {'A':1, 'B':2, 'C':3}\n",
    "}\n",
    "\n",
    "# reverse prefs for convenience in implementation\n",
    "for x in prefs:\n",
    "    prefs[x].reverse()\n",
    "\n",
    "free_students = list(students)  # initialize list of free students\n",
    "M = {}                          # initialize matching dictionary\n",
    "\n",
    "while len(free_students) > 0:\n",
    "    s = free_students.pop()\n",
    "    # if s has not proposed to everyone\n",
    "    if len(prefs[s]) > 0:\n",
    "        # get the top remaining preference\n",
    "        h = prefs[s].pop()\n",
    "        if h not in M:\n",
    "            M[h] = s\n",
    "        else:\n",
    "            s2 = M[h]\n",
    "            if rank[h][s] < rank[h][s2]:\n",
    "                M[h] = s\n",
    "                free_students.append(s2)\n",
    "            else:\n",
    "                # s is still free\n",
    "                free_students.append(s)\n",
    "\n",
    "print(M)"
   ]
  },
  {
   "cell_type": "code",
   "execution_count": 28,
   "metadata": {},
   "outputs": [
    {
     "data": {
      "text/plain": [
       "[1, 2, 3, 4]"
      ]
     },
     "execution_count": 28,
     "metadata": {},
     "output_type": "execute_result"
    }
   ],
   "source": [
    "listA = [1,2,3,4]\n",
    "listA"
   ]
  },
  {
   "cell_type": "code",
   "execution_count": 29,
   "metadata": {},
   "outputs": [
    {
     "name": "stdout",
     "output_type": "stream",
     "text": [
      "4\n",
      "[1, 2, 3]\n"
     ]
    }
   ],
   "source": [
    "item = listA.pop()\n",
    "print(item)\n",
    "print(listA)"
   ]
  },
  {
   "cell_type": "code",
   "execution_count": 31,
   "metadata": {},
   "outputs": [],
   "source": [
    "A = [1,2,3]"
   ]
  },
  {
   "cell_type": "code",
   "execution_count": 33,
   "metadata": {},
   "outputs": [],
   "source": [
    "B = list(A)"
   ]
  },
  {
   "cell_type": "code",
   "execution_count": null,
   "metadata": {},
   "outputs": [],
   "source": [
    "B = A"
   ]
  }
 ],
 "metadata": {
  "kernelspec": {
   "display_name": "Python 3",
   "language": "python",
   "name": "python3"
  },
  "language_info": {
   "codemirror_mode": {
    "name": "ipython",
    "version": 3
   },
   "file_extension": ".py",
   "mimetype": "text/x-python",
   "name": "python",
   "nbconvert_exporter": "python",
   "pygments_lexer": "ipython3",
   "version": "3.6.4"
  }
 },
 "nbformat": 4,
 "nbformat_minor": 2
}
