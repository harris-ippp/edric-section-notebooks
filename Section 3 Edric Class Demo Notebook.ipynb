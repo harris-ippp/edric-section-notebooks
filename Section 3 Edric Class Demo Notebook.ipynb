{
 "cells": [
  {
   "cell_type": "markdown",
   "metadata": {},
   "source": [
    "# OUTLINE Section 3\n",
    "\n",
    "- #### Review last week's material to refresh memory, relevant to this homework assignment \n",
    "    - quiz common mistakes: \n",
    "        - Module vs Script vs Interpreter vs Function\n",
    "        - list indexing\n",
    "    - writing functions\n",
    "        - importing stuff\n",
    "        - how to define and execute functions, across various modules\n",
    "        - return statements\n",
    "    - if else statements\n",
    "    - while loops\n",
    "        - what is while true? \n",
    "        - when would I use while loops\n",
    "        - break statements\n",
    "        \n",
    "    - for loops\n",
    "        - range function\n",
    "        - when to use for loops \n",
    "    - bisection search\n",
    "        - how it works? Intuition\n",
    "\n",
    "- #### Quickly Glimpse into this week's material, relevant to next Homework assignment\n",
    "    - lists \n",
    "    - strings\n",
    "    - dictionaries\n",
    "    - for loops over them (if time allows)\n",
    "    \n",
    "- #### Homework and individual help"
   ]
  },
  {
   "cell_type": "code",
   "execution_count": 22,
   "metadata": {},
   "outputs": [],
   "source": [
    "def addition(a1, a2):\n",
    "    return a1 + a2\n",
    "    print(\"bal\") # this will not print...return ends the function execution"
   ]
  },
  {
   "cell_type": "code",
   "execution_count": 23,
   "metadata": {},
   "outputs": [
    {
     "data": {
      "text/plain": [
       "25"
      ]
     },
     "execution_count": 23,
     "metadata": {},
     "output_type": "execute_result"
    }
   ],
   "source": [
    "addition(10,15)"
   ]
  },
  {
   "cell_type": "code",
   "execution_count": 25,
   "metadata": {},
   "outputs": [
    {
     "name": "stdout",
     "output_type": "stream",
     "text": [
      "bring umbrella\n"
     ]
    }
   ],
   "source": [
    "weather = \"rainy\"\n",
    "\n",
    "if weather == \"sunny\":\n",
    "    print(\"no umbrella\")\n",
    "else:\n",
    "    print(\"bring umbrella\")"
   ]
  },
  {
   "cell_type": "code",
   "execution_count": 26,
   "metadata": {},
   "outputs": [],
   "source": [
    "A = [\"abnc\", \"def\", 3, 5, 10]"
   ]
  },
  {
   "cell_type": "code",
   "execution_count": 27,
   "metadata": {},
   "outputs": [
    {
     "name": "stdout",
     "output_type": "stream",
     "text": [
      "abnc\n",
      "def\n",
      "3\n",
      "5\n",
      "10\n"
     ]
    }
   ],
   "source": [
    "for item in A:\n",
    "    print(item)"
   ]
  },
  {
   "cell_type": "code",
   "execution_count": 38,
   "metadata": {},
   "outputs": [
    {
     "name": "stdout",
     "output_type": "stream",
     "text": [
      "abnc\n",
      "def\n",
      "3\n",
      "5\n",
      "10\n"
     ]
    }
   ],
   "source": [
    "for i in range(0, len(A)):\n",
    "    print(A[i])"
   ]
  },
  {
   "cell_type": "code",
   "execution_count": 32,
   "metadata": {},
   "outputs": [
    {
     "name": "stdout",
     "output_type": "stream",
     "text": [
      "1\n",
      "3\n",
      "5\n",
      "7\n",
      "9\n"
     ]
    }
   ],
   "source": [
    "for i in range(1,10, 2):\n",
    "    print(i)"
   ]
  },
  {
   "cell_type": "code",
   "execution_count": 40,
   "metadata": {},
   "outputs": [
    {
     "name": "stdout",
     "output_type": "stream",
     "text": [
      "1\n",
      "2\n",
      "3\n",
      "4\n",
      "5\n",
      "6\n",
      "7\n",
      "8\n",
      "9\n",
      "10\n",
      "11\n",
      "12\n",
      "13\n",
      "14\n",
      "15\n"
     ]
    }
   ],
   "source": [
    "counter = 0\n",
    "while True:\n",
    "    counter = counter + 1\n",
    "    print(counter)\n",
    "    if counter == 15:\n",
    "        break"
   ]
  },
  {
   "cell_type": "code",
   "execution_count": 34,
   "metadata": {},
   "outputs": [
    {
     "data": {
      "text/plain": [
       "4"
      ]
     },
     "execution_count": 34,
     "metadata": {},
     "output_type": "execute_result"
    }
   ],
   "source": [
    "len([5,4,3,2])"
   ]
  },
  {
   "cell_type": "code",
   "execution_count": 44,
   "metadata": {},
   "outputs": [],
   "source": [
    "def bisectExample(a,b):\n",
    "    while True:\n",
    "        midpoint = (a + b)/2\n",
    "        print([a,b])\n",
    "        print(midpoint)\n",
    "        target = 13\n",
    "        yourEstimate = midpoint ** 2\n",
    "        \n",
    "        if (abs(target - yourEstimate) < 0.01):\n",
    "            break\n",
    "            \n",
    "        elif yourEstimate > target:\n",
    "            b = midpoint\n",
    "            \n",
    "        else:\n",
    "            a = midpoint\n",
    "            \n",
    "    return midpoint"
   ]
  },
  {
   "cell_type": "code",
   "execution_count": 46,
   "metadata": {},
   "outputs": [
    {
     "name": "stdout",
     "output_type": "stream",
     "text": [
      "[0, 7]\n",
      "3.5\n",
      "[3.5, 7]\n",
      "5.25\n",
      "[3.5, 5.25]\n",
      "4.375\n",
      "[3.5, 4.375]\n",
      "3.9375\n",
      "[3.5, 3.9375]\n",
      "3.71875\n",
      "[3.5, 3.71875]\n",
      "3.609375\n",
      "[3.5, 3.609375]\n",
      "3.5546875\n",
      "[3.5546875, 3.609375]\n",
      "3.58203125\n",
      "[3.58203125, 3.609375]\n",
      "3.595703125\n",
      "[3.595703125, 3.609375]\n",
      "3.6025390625\n",
      "[3.6025390625, 3.609375]\n",
      "3.60595703125\n"
     ]
    },
    {
     "data": {
      "text/plain": [
       "3.60595703125"
      ]
     },
     "execution_count": 46,
     "metadata": {},
     "output_type": "execute_result"
    }
   ],
   "source": [
    "bisectExample(0,7)"
   ]
  },
  {
   "cell_type": "code",
   "execution_count": 75,
   "metadata": {},
   "outputs": [
    {
     "data": {
      "text/plain": [
       "13.002926111221313"
      ]
     },
     "execution_count": 75,
     "metadata": {},
     "output_type": "execute_result"
    }
   ],
   "source": [
    "3.60595703125 ** 2"
   ]
  },
  {
   "cell_type": "code",
   "execution_count": 47,
   "metadata": {},
   "outputs": [],
   "source": [
    "B = [1,2,3, \"3422\"] "
   ]
  },
  {
   "cell_type": "code",
   "execution_count": 48,
   "metadata": {},
   "outputs": [
    {
     "data": {
      "text/plain": [
       "[1, 2, 3, '3422']"
      ]
     },
     "execution_count": 48,
     "metadata": {},
     "output_type": "execute_result"
    }
   ],
   "source": [
    "B"
   ]
  },
  {
   "cell_type": "code",
   "execution_count": 49,
   "metadata": {},
   "outputs": [],
   "source": [
    "nestedList = [[1,3,5], [4,6,8]]"
   ]
  },
  {
   "cell_type": "code",
   "execution_count": 50,
   "metadata": {},
   "outputs": [
    {
     "data": {
      "text/plain": [
       "[[1, 3, 5], [4, 6, 8]]"
      ]
     },
     "execution_count": 50,
     "metadata": {},
     "output_type": "execute_result"
    }
   ],
   "source": [
    "nestedList"
   ]
  },
  {
   "cell_type": "code",
   "execution_count": 51,
   "metadata": {},
   "outputs": [
    {
     "data": {
      "text/plain": [
       "3"
      ]
     },
     "execution_count": 51,
     "metadata": {},
     "output_type": "execute_result"
    }
   ],
   "source": [
    "nestedList[0][1]"
   ]
  },
  {
   "cell_type": "code",
   "execution_count": 52,
   "metadata": {},
   "outputs": [],
   "source": [
    "listB = [1,2,3,4,5,6,10]"
   ]
  },
  {
   "cell_type": "code",
   "execution_count": 60,
   "metadata": {},
   "outputs": [
    {
     "data": {
      "text/plain": [
       "[1, 2, 3, 4]"
      ]
     },
     "execution_count": 60,
     "metadata": {},
     "output_type": "execute_result"
    }
   ],
   "source": [
    "listB[:4]"
   ]
  },
  {
   "cell_type": "code",
   "execution_count": 61,
   "metadata": {},
   "outputs": [],
   "source": [
    "exampleString = \"jfkdslfjksdlfjdkf4u85435\""
   ]
  },
  {
   "cell_type": "code",
   "execution_count": 62,
   "metadata": {},
   "outputs": [
    {
     "name": "stdout",
     "output_type": "stream",
     "text": [
      "j\n",
      "f\n",
      "k\n",
      "d\n",
      "s\n",
      "l\n",
      "f\n",
      "j\n",
      "k\n",
      "s\n",
      "d\n",
      "l\n",
      "f\n",
      "j\n",
      "d\n",
      "k\n",
      "f\n",
      "4\n",
      "u\n",
      "8\n",
      "5\n",
      "4\n",
      "3\n",
      "5\n"
     ]
    }
   ],
   "source": [
    "for character in exampleString:\n",
    "    print(character)"
   ]
  },
  {
   "cell_type": "code",
   "execution_count": 73,
   "metadata": {},
   "outputs": [],
   "source": [
    "fjksdjfksafjksd = {\"fjdskfjk\":1, \"two\":2}"
   ]
  },
  {
   "cell_type": "code",
   "execution_count": 74,
   "metadata": {},
   "outputs": [
    {
     "data": {
      "text/plain": [
       "1"
      ]
     },
     "execution_count": 74,
     "metadata": {},
     "output_type": "execute_result"
    }
   ],
   "source": [
    "fjksdjfksafjksd[\"fjdskfjk\"]"
   ]
  },
  {
   "cell_type": "code",
   "execution_count": 67,
   "metadata": {},
   "outputs": [
    {
     "data": {
      "text/plain": [
       "[1, 2, 3, 4, 5, 6, 10]"
      ]
     },
     "execution_count": 67,
     "metadata": {},
     "output_type": "execute_result"
    }
   ],
   "source": [
    "listB"
   ]
  },
  {
   "cell_type": "code",
   "execution_count": 69,
   "metadata": {},
   "outputs": [
    {
     "data": {
      "text/plain": [
       "[5, 6, 10]"
      ]
     },
     "execution_count": 69,
     "metadata": {},
     "output_type": "execute_result"
    }
   ],
   "source": [
    "listB[4:]"
   ]
  },
  {
   "cell_type": "code",
   "execution_count": 70,
   "metadata": {},
   "outputs": [
    {
     "data": {
      "text/plain": [
       "[5, 6, 10]"
      ]
     },
     "execution_count": 70,
     "metadata": {},
     "output_type": "execute_result"
    }
   ],
   "source": [
    "listB[4:len(listB)]"
   ]
  },
  {
   "cell_type": "code",
   "execution_count": null,
   "metadata": {},
   "outputs": [],
   "source": []
  }
 ],
 "metadata": {
  "kernelspec": {
   "display_name": "Python 3",
   "language": "python",
   "name": "python3"
  },
  "language_info": {
   "codemirror_mode": {
    "name": "ipython",
    "version": 3
   },
   "file_extension": ".py",
   "mimetype": "text/x-python",
   "name": "python",
   "nbconvert_exporter": "python",
   "pygments_lexer": "ipython3",
   "version": "3.6.4"
  }
 },
 "nbformat": 4,
 "nbformat_minor": 2
}
