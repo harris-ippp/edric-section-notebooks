{
 "cells": [
  {
   "cell_type": "markdown",
   "metadata": {},
   "source": [
    "- Have to leave at/before 5:50pm today\n",
    "- This week's review (25 min) (stuff relevant to this assignment)\n",
    "    - Entirely New Concept of Databases and Structured Query Language\n",
    "        - Review basics of SQL commands\n",
    "            - SELECT\n",
    "            - FROM\n",
    "            - WHERE\n",
    "            - GROUP BY\n",
    "            - ORDER BY\n",
    "            - Aggregate Commands: COUNT, AVG, SUM, MIN etc\n",
    "        - Using Joins! \n",
    "            - can get very complicated very quickly\n",
    "            - remember rule of thumb: always join ***ON*** something\n",
    "            \n",
    "        - Review basics of using sqlite in terminal\n",
    "    - Learn how to integrate sql to pandas objects in python (3 steps)\n",
    "        1. Establish connection\n",
    "        2. run query and save as pandas df\n",
    "        3. analyze the df\n",
    "- Q&A (4:50 - 5:50)\n",
    "     - answer any questions about hw, grading etc"
   ]
  },
  {
   "cell_type": "markdown",
   "metadata": {},
   "source": [
    "Relational Databases Overview in 3 sentences\n",
    "- At the core, the databases that we deal with in this class are just ***A BUNCH OF TABLES***...that's it\n",
    "- Each table has ***A BUNCH OF ROWS that represent the entries*** and ***A BUNCH OF COLUMNS that represent the attributes***\n",
    "- Each entry has a unique ***primary key that identifies it ***"
   ]
  },
  {
   "cell_type": "markdown",
   "metadata": {},
   "source": [
    "There are two types of things that you might want to do with a database:\n",
    "\n",
    "1. ***CRUD***:\n",
    "Create, Read, Update, Destroy tables in a database \n",
    "\n",
    "These are the create table, insert, update, delete commands...less relevant for this class.\n",
    "\n",
    "2. ***Query***: \n",
    "Query for particular entries inside table(s) that might fit a set of criteria that you want\n",
    "\n",
    "For the assignments in this class, we would only need the Query commands"
   ]
  },
  {
   "cell_type": "markdown",
   "metadata": {},
   "source": [
    "![title](table.png)"
   ]
  },
  {
   "cell_type": "markdown",
   "metadata": {},
   "source": [
    "**Basic Query Syntax: SELECT**\n",
    "\n",
    "SELECT #column_name# FROM #table_name#;\n",
    "\n",
    "SELECT LName FROM Employees;\n",
    "    \n",
    "Almost everything you do in this class will be based on this basic format. \n",
    "\n",
    "E.g. You can select multiple columns...just seperate them by commas. \n",
    "\n",
    "\n",
    "    \n",
    "** Special Character**: ***\n",
    "\n",
    "* means everything\n",
    "\n",
    "SELECT * FROM Employees; \n",
    "\n",
    "The above line would give you the entire table\n",
    "\n",
    "** Specifying Criteria **: **WHERE**\n",
    "\n",
    "E.g. SELECT LName FROM Employees WHERE Salary > 40000;\n",
    "\n",
    "Can add more conditions with AND and OR commands:\n",
    "\n",
    "E.g. SELECT LName FROM Employees WHERE Salary > 40000 AND Salary < 50000;\n",
    "\n",
    "**Can perform Arithmetic and Aggregate Operations on Data: SUM, AVG, COUNT, MIN, MAX etc **\n",
    "\n",
    "E.g. Compute Average Salary: \n",
    "\n",
    "SELECT AVG(Salary) FROM Employees;\n",
    "\n",
    "E.g. Compute Sum of Salary for employees who earn less than 40000: \n",
    "\n",
    "SELECT SUM(Salary) FROM Employees WHERE Salary < 40000;\n",
    "\n",
    "E.g. Count number of employees who earn more than 35000;\n",
    "\n",
    "SELECT COUNT(*) FROM Employees WHERE Salary > 35000;\n",
    "\n",
    "**Can perform Sorting: ORDER BY**:\n",
    "\n",
    "Order the query based on Salary:\n",
    "\n",
    "SELECT LName FROM Employees ORDER BY Salary DESC;\n",
    "\n",
    "** Can perform Aggregation: GROUP BY and HAVING**:\n",
    "\n",
    "Similar to pandas group by....treat as a group rows that share the value in a column. \n",
    "\n",
    "Say there is an additional column in the Table above, called gender and can only have two values, 'M\", and 'F'. \n",
    "\n",
    "You can then use group by on it:\n",
    "\n",
    "E.g. Calculate Average Salary in Males and Females:\n",
    "\n",
    "SELECT AVG(Salary) from Employees GROUP BY gender;\n",
    "\n",
    "HAVING is the same as WHERE, except where conditions on the row level, whereas HAVING conditions on the group level. \n",
    "\n",
    "SELECT AVG(Salary) from Employees GROUP BY gender HAVING MAX(Salary) > 50000;\n",
    "\n",
    "JOINING TWO OR MORE TABLES:\n",
    "\n",
    "Demo on Command Line. \n"
   ]
  },
  {
   "cell_type": "code",
   "execution_count": 13,
   "metadata": {},
   "outputs": [
    {
     "name": "stdout",
     "output_type": "stream",
     "text": [
      "<class 'pandas.core.frame.DataFrame'>\n",
      "Int64Index: 66603 entries, 20150101150006 to 20151212152498\n",
      "Data columns (total 9 columns):\n",
      "line_no                   66603 non-null int64\n",
      "family_income             66603 non-null int64\n",
      "educational_attainment    66603 non-null int64\n",
      "duration_of_masters       66603 non-null int64\n",
      "years_in_college          66603 non-null int64\n",
      "marital_status            66603 non-null int64\n",
      "state_code                66603 non-null int64\n",
      "age                       66603 non-null int64\n",
      "years_education           66603 non-null int64\n",
      "dtypes: int64(9)\n",
      "memory usage: 5.1 MB\n"
     ]
    }
   ],
   "source": [
    "## Class Example, broken down \n",
    "\n",
    "% matplotlib inline\n",
    "import sqlite3\n",
    "import pandas as pd\n",
    "import matplotlib.pyplot as plt\n",
    "\n",
    "## Step 1: Establish connection with database\n",
    "con = sqlite3.connect('atus.sqlite')\n",
    "\n",
    "## Step 2: run a sql query and store in dataframe\n",
    "cps = pd.read_sql('SELECT * FROM CPS',\n",
    "con,\n",
    "index_col='case_id')\n",
    "\n",
    "## Step 3: Analyze Dataframe\n",
    "cps.info()"
   ]
  },
  {
   "cell_type": "code",
   "execution_count": 10,
   "metadata": {},
   "outputs": [
    {
     "data": {
      "image/png": "[encoded data removed]",
      "text/plain": [
       "<matplotlib.figure.Figure at 0x10cd8fd30>"
      ]
     },
     "metadata": {},
     "output_type": "display_data"
    }
   ],
   "source": [
    "## Can read in sql file too \n",
    "with open('marriage_by_education.sql') as f:\n",
    "    sql = f.read()\n",
    "    m = pd.read_sql(sql, con,\n",
    "    index_col='educational_attainment')\n",
    "    m.plot()"
   ]
  },
  {
   "cell_type": "code",
   "execution_count": null,
   "metadata": {},
   "outputs": [],
   "source": []
  }
 ],
 "metadata": {
  "kernelspec": {
   "display_name": "Python 3",
   "language": "python",
   "name": "python3"
  },
  "language_info": {
   "codemirror_mode": {
    "name": "ipython",
    "version": 3
   },
   "file_extension": ".py",
   "mimetype": "text/x-python",
   "name": "python",
   "nbconvert_exporter": "python",
   "pygments_lexer": "ipython3",
   "version": "3.6.4"
  }
 },
 "nbformat": 4,
 "nbformat_minor": 2
}
