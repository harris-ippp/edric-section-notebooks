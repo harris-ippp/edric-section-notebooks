{
 "cells": [
  {
   "cell_type": "markdown",
   "metadata": {},
   "source": [
    "- Have to leave at/before 5:50pm today\n",
    "- This week's review (25 min) (stuff relevant to this assignment)\n",
    "    - Entirely New Concept of Databases and Structured Query Language\n",
    "        - Review basics of SQL commands\n",
    "            - SELECT\n",
    "            - FROM\n",
    "            - WHERE\n",
    "            - IF\n",
    "            \n",
    "        - Review basics of using sqlite in terminal\n",
    "    - Learn how to integrate sql to pandas objects in python \n",
    "- Q&A (4:50 - 5:50)\n",
    "     - answer any questions about hw, grading etc"
   ]
  },
  {
   "cell_type": "markdown",
   "metadata": {},
   "source": [
    "Relational Databases Overview in 3 sentences\n",
    "- At the core, the databases that we deal with in this class are just ***A BUNCH OF TABLES***...that's it\n",
    "- Each table has ***A BUNCH OF ROWS that represent the entries*** and ***A BUNCH OF COLUMNS that represent the attributes***\n",
    "- Each entry has a unique ***primary key that identifies it ***"
   ]
  },
  {
   "cell_type": "markdown",
   "metadata": {},
   "source": [
    "There are two types of things that you might want to do with a database:\n",
    "\n",
    "1. ***CRUD***:\n",
    "Create, Read, Update, Destroy tables in a database\n",
    "\n",
    "2. ***Query***: \n",
    "Query for particular entries inside table(s) that might fit a set of criteria that you want"
   ]
  },
  {
   "cell_type": "markdown",
   "metadata": {},
   "source": []
  },
  {
   "cell_type": "code",
   "execution_count": null,
   "metadata": {},
   "outputs": [],
   "source": []
  },
  {
   "cell_type": "code",
   "execution_count": null,
   "metadata": {},
   "outputs": [],
   "source": []
  },
  {
   "cell_type": "code",
   "execution_count": null,
   "metadata": {},
   "outputs": [],
   "source": []
  },
  {
   "cell_type": "code",
   "execution_count": null,
   "metadata": {},
   "outputs": [],
   "source": []
  }
 ],
 "metadata": {
  "kernelspec": {
   "display_name": "Python 3",
   "language": "python",
   "name": "python3"
  },
  "language_info": {
   "codemirror_mode": {
    "name": "ipython",
    "version": 3
   },
   "file_extension": ".py",
   "mimetype": "text/x-python",
   "name": "python",
   "nbconvert_exporter": "python",
   "pygments_lexer": "ipython3",
   "version": "3.6.4"
  }
 },
 "nbformat": 4,
 "nbformat_minor": 2
}
