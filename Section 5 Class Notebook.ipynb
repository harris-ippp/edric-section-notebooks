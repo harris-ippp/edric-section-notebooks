{
 "cells": [
  {
   "cell_type": "markdown",
   "metadata": {},
   "source": [
    "# Edric Section 5 Class Demo Jupyter \n",
    "\n",
    "- ## Logistics \n",
    "    - ### based on office hours questions, many struggles with homework...will spend more time on Q and A and less on review today\n",
    "\n",
    "    - ### Will leave at 5:45pm \n",
    "\n",
    "- ## Review\n",
    "- ***Last week's (common mistakes and stuff relevant to this assignment) 15min***\n",
    "\n",
    "    - quickly review common mistakes in quiz 4 and past homework\n",
    "        - 80% of class got unstable pairs question wrong (Eric went through that in class...ask any questions)\n",
    "        - A note on comments and style in assignment submissions\n",
    "            - commenting: \n",
    "                - comment at top of each function giving rough outline/big picture...\n",
    "                - if you named your variables and functions properly code should be fairly self explanatory...\n",
    "                - only comment when there is complicated/not obvious code that need explanation\n",
    "            - don't import inside a function, import at the top of code\n",
    "            - informative naming of variables\n",
    "                - dont name stuff a, or h1, or ZZZ...\n",
    "                - start with lowercases, and use informative names like firstRow, best_match etc\n",
    "            \n",
    "    - special note on Jupyter notebooks\n",
    "        - will start using it A LOT MORE from now on\n",
    "        - demo of all related functionality including plotting\n",
    "        - magic command %  matplotlib inline\n",
    "        \n",
    "    - seems like many are still quite confused about the algorithm and what it is doing...many questions in emails/office hours related to that. \n",
    "    - quickly review matching code relevant to this assignment:\n",
    "      - how to raise errors\n",
    " \n",
    "- ***This week review/preview: Pandas, Numpy (stuff relevant to next assignment) (10min) ***\n",
    "    - ***EXTREMELY POWERFUL....THE MOST IMPORTANT STUFF YOU WILL LEARN IN THIS CLASS***\n",
    "    - If you are interested, quantopian is probably the best resource for learning this\n",
    "    - my favorite pandas cheat sheet: https://github.com/pandas-dev/pandas/blob/master/doc/cheatsheet/Pandas_Cheat_Sheet.pdf\n",
    "    - my favorite numpy cheat sheet: https://s3.amazonaws.com/assets.datacamp.com/blog_assets/Numpy_Python_Cheat_Sheet.pdf\n",
    "    \n",
    "    - related to salaries.csv again\n",
    "    - using pandas and related functions\n",
    "\n",
    "- ### Q&A"
   ]
  },
  {
   "cell_type": "code",
   "execution_count": 3,
   "metadata": {},
   "outputs": [],
   "source": [
    "# example of comments\n",
    "\n",
    "# good example\n",
    "\n",
    "# function takes in a list and returns it's mean\n",
    "def findMean(inputList):\n",
    "    answer = sum(inputList)/len(inputList)\n",
    "    return answer\n",
    "\n",
    "# bad example\n",
    "\n",
    "# bla bla bla bla bla \n",
    "def fM(i):\n",
    "    s = sum(i) # this is the sum i used python function to calculate\n",
    "    l = len(i) # this is the length I used python built in function to claculate\n",
    "    a = s/l # I divide the sum by the length to get the mean\n",
    "    return a # I return the mean as the output"
   ]
  },
  {
   "cell_type": "code",
   "execution_count": 8,
   "metadata": {},
   "outputs": [
    {
     "ename": "ValueError",
     "evalue": "math is right",
     "output_type": "error",
     "traceback": [
      "\u001b[0;31m-----------------------------------------------------------\u001b[0m",
      "\u001b[0;31mValueError\u001b[0m                Traceback (most recent call last)",
      "\u001b[0;32m<ipython-input-8-a44535ac3e32>\u001b[0m in \u001b[0;36m<module>\u001b[0;34m()\u001b[0m\n\u001b[1;32m      1\u001b[0m \u001b[0;32mif\u001b[0m \u001b[0;36m2\u001b[0m \u001b[0;34m>\u001b[0m \u001b[0;34m-\u001b[0m\u001b[0;36m1\u001b[0m\u001b[0;34m:\u001b[0m  \u001b[0;31m# any found?\u001b[0m\u001b[0;34m\u001b[0m\u001b[0m\n\u001b[0;32m----> 2\u001b[0;31m     \u001b[0;32mraise\u001b[0m \u001b[0mValueError\u001b[0m\u001b[0;34m(\u001b[0m\u001b[0;34m\"math is right\"\u001b[0m\u001b[0;34m)\u001b[0m\u001b[0;34m\u001b[0m\u001b[0m\n\u001b[0m",
      "\u001b[0;31mValueError\u001b[0m: math is right"
     ]
    }
   ],
   "source": [
    "if 2 > -1:  # any found?\n",
    "    raise ValueError(\"math is right\")"
   ]
  },
  {
   "cell_type": "code",
   "execution_count": 5,
   "metadata": {},
   "outputs": [],
   "source": [
    "% matplotlib inline"
   ]
  },
  {
   "cell_type": "code",
   "execution_count": null,
   "metadata": {},
   "outputs": [],
   "source": []
  },
  {
   "cell_type": "code",
   "execution_count": null,
   "metadata": {},
   "outputs": [],
   "source": [
    "### Below just example to demonstrate matplotlib inline\n",
    "## code below referenced from pyplot documentation"
   ]
  },
  {
   "cell_type": "code",
   "execution_count": 6,
   "metadata": {},
   "outputs": [
    {
     "data": {
      "image/png": "[encoded data removed]",
      "text/plain": [
       "<matplotlib.figure.Figure at 0x10f8a4a90>"
      ]
     },
     "metadata": {},
     "output_type": "display_data"
    }
   ],
   "source": [
    "import matplotlib.pyplot as plt\n",
    "import numpy as np\n",
    "\n",
    "# Random test data\n",
    "np.random.seed(123)\n",
    "all_data = [np.random.normal(0, std, 100) for std in range(1, 4)]\n",
    "\n",
    "fig, axes = plt.subplots(nrows=1, ncols=2, figsize=(9, 4))\n",
    "\n",
    "# rectangular box plot\n",
    "bplot1 = axes[0].boxplot(all_data,\n",
    "                         vert=True,   # vertical box aligmnent\n",
    "                         patch_artist=True)   # fill with color\n",
    "\n",
    "# notch shape box plot\n",
    "bplot2 = axes[1].boxplot(all_data,\n",
    "                         notch=True,  # notch shape\n",
    "                         vert=True,   # vertical box aligmnent\n",
    "                         patch_artist=True)   # fill with color\n",
    "\n",
    "# fill with colors\n",
    "colors = ['pink', 'lightblue', 'lightgreen']\n",
    "for bplot in (bplot1, bplot2):\n",
    "    for patch, color in zip(bplot['boxes'], colors):\n",
    "        patch.set_facecolor(color)\n",
    "\n",
    "# adding horizontal grid lines\n",
    "for ax in axes:\n",
    "    ax.yaxis.grid(True)\n",
    "    ax.set_xticks([y+1 for y in range(len(all_data))], )\n",
    "    ax.set_xlabel('xlabel')\n",
    "    ax.set_ylabel('ylabel')\n",
    "\n",
    "# add x-tick labels\n",
    "plt.setp(axes, xticks=[y+1 for y in range(len(all_data))],\n",
    "         xticklabels=['x1', 'x2', 'x3', 'x4'])\n",
    "\n",
    "plt.show()"
   ]
  },
  {
   "cell_type": "code",
   "execution_count": null,
   "metadata": {},
   "outputs": [],
   "source": []
  },
  {
   "cell_type": "markdown",
   "metadata": {},
   "source": [
    "# Gale Shapley in Essence: \n",
    "## One line big picture goal: find matchings that are \"best\"\n",
    "### a matching is just a bunch of pairs\n",
    " - what do we mean by \"best\" matching? \n",
    "     - Ans: no unstable pairs in the matching\n",
    " - An unstable pair is a pair where both partners prefer somebody else\n",
    " \n",
    " \n",
    " \n",
    " \n",
    " - how do we achieve that with Gale-Shapley?\n",
    "    \n",
    "    - Step 1: You are given preferences for both parties (i.e. how do the hospitals rank the students, \n",
    "        and how do the students rank the hospital)\n",
    "    - THE LOOP: \n",
    "    - Step 2: Start with an unmatched student, see what hospital the student prefers most\n",
    "    - Step 3: If that hospital has no match yet, then hospital will tentatively match with that student. \n",
    "    - Step 4: If that hospital has matched already, see whether hospital prefers the new student or the old match. Hospital will match with whoever it prefers the most out of the two options.  \n",
    "    - Step 5: repeat the above procedure with a new unmatched student until there are no unmatched student. \n",
    "    "
   ]
  }
 ],
 "metadata": {
  "kernelspec": {
   "display_name": "Python 3",
   "language": "python",
   "name": "python3"
  },
  "language_info": {
   "codemirror_mode": {
    "name": "ipython",
    "version": 3
   },
   "file_extension": ".py",
   "mimetype": "text/x-python",
   "name": "python",
   "nbconvert_exporter": "python",
   "pygments_lexer": "ipython3",
   "version": "3.6.4"
  }
 },
 "nbformat": 4,
 "nbformat_minor": 2
}
